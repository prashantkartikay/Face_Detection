{
 "cells": [
  {
   "cell_type": "code",
   "execution_count": null,
   "metadata": {},
   "outputs": [],
   "source": [
    "import numpy as np\n",
    "file_name=input('enter the name')"
   ]
  },
  {
   "cell_type": "code",
   "execution_count": 22,
   "metadata": {},
   "outputs": [],
   "source": [
    "import os\n",
    "import cv2"
   ]
  },
  {
   "cell_type": "code",
   "execution_count": null,
   "metadata": {
    "scrolled": true
   },
   "outputs": [],
   "source": []
  },
  {
   "cell_type": "code",
   "execution_count": null,
   "metadata": {},
   "outputs": [],
   "source": []
  },
  {
   "cell_type": "code",
   "execution_count": 23,
   "metadata": {
    "scrolled": true
   },
   "outputs": [
    {
     "name": "stdout",
     "output_type": "stream",
     "text": [
      "1\n",
      "2\n",
      "3\n",
      "4\n",
      "5\n",
      "6\n",
      "7\n",
      "8\n",
      "9\n",
      "10\n",
      "11\n",
      "12\n",
      "13\n",
      "14\n",
      "15\n",
      "16\n",
      "17\n",
      "18\n",
      "19\n",
      "20\n",
      "21\n",
      "22\n",
      "C:/Users/dell/OneDrive/Documents/machine learning/ shivam.npy\n"
     ]
    }
   ],
   "source": [
    "\n",
    "import cv2\n",
    "cap=cv2.VideoCapture(0)\n",
    "face_cascade=cv2.CascadeClassifier(r'C:\\Users\\dell\\OneDrive\\Documents\\machine learning\\haarcascade_frontalface_alt.xml')\n",
    "skip=0\n",
    "face_data=[]\n",
    "dataset_path='C:/Users/dell/OneDrive/Documents/machine learning/ '\n",
    "while True:\n",
    "            ret,frame=cap.read()\n",
    "            gray_frame=cv2.cvtColor(frame,cv2.COLOR_BGR2GRAY)\n",
    "            if(ret==False):\n",
    "                 continue\n",
    "            faces=face_cascade.detectMultiScale(gray_frame,1.3,5)\n",
    "            faces=sorted(faces,key=lambda f:f[2]*f[3])\n",
    "    #  print (faces)\n",
    "            for face in faces[-1:]: \n",
    "                x,y,w,h=face\n",
    "                cv2.rectangle(frame,(x,y),(x+w,y+h),(255,0,0),2)\n",
    "            \n",
    "                offset=10\n",
    "                face_section=frame[y-offset:y+h+offset,x-offset:x+w+offset]\n",
    "                face_section=cv2.resize(face_section,(100,100))\n",
    "                skip+=1\n",
    "                if(skip%2==0):\n",
    "                    face_data.append(face_section)\n",
    "                    print(len(face_data))\n",
    "     \n",
    "                \n",
    "            cv2.imshow('Gra',frame)\n",
    "            cv2.imshow('Gr',face_section)\n",
    "      \n",
    "            key_pressed=cv2.waitKey(1) & 0xFF\n",
    "            if key_pressed==ord('q'):\n",
    "                break\n",
    "face_data=np.asarray(face_data)\n",
    "face_data=face_data.reshape((face_data.shape[0],-1))\n",
    "np.save(dataset_path+file_name+'.npy',face_data)\n",
    "print(dataset_path+file_name+'.npy')\n",
    "\n",
    "\n",
    "cap.release()\n",
    "cv2.destroyAllWindows()\n"
   ]
  },
  {
   "cell_type": "code",
   "execution_count": 24,
   "metadata": {},
   "outputs": [],
   "source": [
    "def distance (v1,v2):\n",
    "     return np.sqrt(((v1-v2)**2).sum())\n",
    "    \n",
    "def knn(train,test,k=5):\n",
    "    dist=[]\n",
    "    for i in range(train.shape[0]):\n",
    "        ix=train[i,:-1]\n",
    "        iy=train[i,-1]\n",
    "        d=distance(test,ix)\n",
    "        dist.append([d,iy])\n",
    "    dk=sorted(dist,key=lambda x:x[0])[:k]\n",
    "    labels=np.array(dk)[:,-1]\n",
    "    \n",
    "    \n",
    "    output=np.unique(labels,return_counts=True)\n",
    "    index=np.argmax(output[1])\n",
    "    return output[0][index]"
   ]
  },
  {
   "cell_type": "code",
   "execution_count": null,
   "metadata": {},
   "outputs": [],
   "source": []
  },
  {
   "cell_type": "code",
   "execution_count": 25,
   "metadata": {},
   "outputs": [
    {
     "name": "stdout",
     "output_type": "stream",
     "text": [
      "C:\\Users\\dell\\OneDrive\\Documents\\machine learning\n"
     ]
    }
   ],
   "source": [
    "print(os.getcwd())"
   ]
  },
  {
   "cell_type": "code",
   "execution_count": 26,
   "metadata": {},
   "outputs": [],
   "source": [
    "os.chdir(r\"C:/Users/dell/OneDrive/Documents/machine learning/\")"
   ]
  },
  {
   "cell_type": "code",
   "execution_count": 27,
   "metadata": {},
   "outputs": [
    {
     "name": "stdout",
     "output_type": "stream",
     "text": [
      "[' prashant.npy', ' shivam.npy', '.ipynb', '.ipynb-checkpoint', '.ipynb_checkpoints', '1610217892707.pdf', 'a.jpg', 'center.jpeg', 'codechef m data putting-checkpoint.ipynb', 'codechef m data putting.ipynb', 'Diabetes_Xtest.csv', 'Diabetes_XTrain.csv', 'Diabetes_YTrain.csv', 'diabities-checkpoint.ipynb', 'diabities.ipynb', 'face-checkpoint.ipynb', 'face.ipynb', 'face_regnition 11-checkpoint.ipynb', 'face_regnition 11.ipynb', 'haarcascade_frontalface_alt.xml', 'Handwritten digit 1-checkpoint.ipynb', 'Handwritten digit 1.ipynb', 'handwritten digit-checkpoint.ipynb', 'handwritten digit.ipynb', 'insp.jpg', 'ml-100k', 'movie recommendatin-checkpoint.ipynb', 'movie recommendatin.ipynb', 'p.cpp', 'qq-checkpoint.ipynb', 'qq.ipynb', 's.jpg', 'sample_submission.csv', 'seaborn graph-checkpoint.ipynb', 'seaborn graph.ipynb', 'train.csv', 'Untitled.ipynb', 'web_scraping-checkpoint.ipynb', 'web_scraping.ipynb']\n"
     ]
    }
   ],
   "source": [
    " print(os.listdir())"
   ]
  },
  {
   "cell_type": "code",
   "execution_count": 28,
   "metadata": {},
   "outputs": [
    {
     "name": "stdout",
     "output_type": "stream",
     "text": [
      "(46, 30000)\n",
      "(46, 1)\n"
     ]
    }
   ],
   "source": [
    "cap=cv2.VideoCapture(0)\n",
    "face_cascade=cv2.CascadeClassifier(r'C:\\Users\\dell\\OneDrive\\Documents\\machine learning\\haarcascade_frontalface_alt.xml')\n",
    "skip=0;\n",
    "dataset_path='C:/Users/dell/OneDrive/Documents/machine learning/ '\n",
    "face_data=[] #x value\n",
    "labels=[]    #y vlue\n",
    "class_id=0\n",
    "names={}\n",
    "\n",
    "for fx in os.listdir():\n",
    "        # print(\"Loaded \"+fx)\n",
    "        if fx.endswith('.npy'):\n",
    "            #print(\":: \")\n",
    "            names[class_id]=fx[:-4]\n",
    "            data_item=np.load(fx)\n",
    "            face_data.append(data_item)\n",
    "            \n",
    "            \n",
    "            target=class_id*np.ones((data_item.shape[0],))\n",
    "            class_id+=1\n",
    "            labels.append(target)\n",
    "            \n",
    "             \n",
    "face_dataset=np.concatenate(face_data,axis=0)\n",
    "face_labels=np.concatenate(labels,axis=0).reshape((-1,1))\n",
    "\n",
    "print(face_dataset.shape)\n",
    "print(face_labels.shape)\n"
   ]
  },
  {
   "cell_type": "code",
   "execution_count": 29,
   "metadata": {},
   "outputs": [
    {
     "name": "stdout",
     "output_type": "stream",
     "text": [
      "(46, 30001)\n"
     ]
    }
   ],
   "source": [
    "trainset=np.concatenate((face_dataset,face_labels),axis=1)\n",
    "print(trainset.shape)"
   ]
  },
  {
   "cell_type": "code",
   "execution_count": null,
   "metadata": {},
   "outputs": [],
   "source": [
    "#testing\n",
    "while True:\n",
    "    ret,frame=cap.read()\n",
    "    if(ret==False):\n",
    "        continue\n",
    "    faces=face_cascade.detectMultiScale(frame,1.3,5)\n",
    "    for face in faces:\n",
    "        x,y,w,h=face\n",
    "        \n",
    "        offset=10\n",
    "        face_section=frame[y-offset:y+h+offset,x-offset:x+w+offset]\n",
    "        face_section=cv2.resize(face_section,(100,100))\n",
    "        out=knn(trainset,face_section.flatten())\n",
    "        \n",
    "        pred_name=names[int(out)]\n",
    "        print(pred_name)\n",
    "        #cv2.putText(image,\"Hello World!!!\", (x,y), cv2.CV_FONT_HERSHEY_SIMPLEX, 2, 255)\n",
    "        cv2.putText(frame,pred_name,(x,y-10),cv2.FONT_HERSHEY_SIMPLEX,2,255,2,cv2.LINE_AA) \n",
    "        cv2.rectangle(frame,(x,y),(x+w,y+h),(0,255,255),2)\n",
    "    cv2.imshow(\"Faces\",frame)\n",
    "    \n",
    "    key=cv2.waitKey(1) & 0xFF\n",
    "    if(key==ord('q')):\n",
    "        break\n",
    "cap.release()\n",
    "cv2.destroyAllWindows()\n",
    "    \n",
    "     "
   ]
  },
  {
   "cell_type": "code",
   "execution_count": null,
   "metadata": {},
   "outputs": [],
   "source": []
  }
 ],
 "metadata": {
  "kernelspec": {
   "display_name": "Python 3",
   "language": "python",
   "name": "python3"
  },
  "language_info": {
   "codemirror_mode": {
    "name": "ipython",
    "version": 3
   },
   "file_extension": ".py",
   "mimetype": "text/x-python",
   "name": "python",
   "nbconvert_exporter": "python",
   "pygments_lexer": "ipython3",
   "version": "3.8.5"
  }
 },
 "nbformat": 4,
 "nbformat_minor": 4
}
